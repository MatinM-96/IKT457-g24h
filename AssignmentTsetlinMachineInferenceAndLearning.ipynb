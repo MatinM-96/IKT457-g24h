{
 "cells": [
  {
   "cell_type": "code",
   "execution_count": 7,
   "id": "initial_id",
   "metadata": {
    "collapsed": true,
    "ExecuteTime": {
     "end_time": "2024-09-19T01:48:38.975263Z",
     "start_time": "2024-09-19T01:48:38.970153Z"
    }
   },
   "outputs": [],
   "source": [
    "#Boolen features"
   ]
  },
  {
   "cell_type": "code",
   "outputs": [],
   "source": [
    "patients = [\n",
    "    {'Age > 50': False, 'Tumor Size > 30mm': False, 'ER Positive': True, 'PR Positive': True, 'HER2 Positive': False, 'Recurrence': False},\n",
    "    {'Age > 50': True, 'Tumor Size > 30mm': False, 'ER Positive': True, 'PR Positive': False, 'HER2 Positive': True, 'Recurrence': True},\n",
    "    {'Age > 50': False, 'Tumor Size > 30mm': False, 'ER Positive': False, 'PR Positive': False, 'HER2 Positive': False, 'Recurrence': False},\n",
    "    {'Age > 50': True, 'Tumor Size > 30mm': True, 'ER Positive': True, 'PR Positive': True, 'HER2 Positive': True, 'Recurrence': True},\n",
    "    {'Age > 50': False, 'Tumor Size > 30mm': False, 'ER Positive': True, 'PR Positive': False, 'HER2 Positive': False, 'Recurrence': False},\n",
    "    {'Age > 50': True, 'Tumor Size > 30mm': True, 'ER Positive': False, 'PR Positive': False, 'HER2 Positive': True, 'Recurrence': True}\n",
    "]\n"
   ],
   "metadata": {
    "collapsed": false,
    "ExecuteTime": {
     "end_time": "2024-09-19T03:30:08.269403Z",
     "start_time": "2024-09-19T03:30:08.260811Z"
    }
   },
   "id": "f2c2b69e94ef1ff3",
   "execution_count": 18
  },
  {
   "cell_type": "code",
   "outputs": [],
   "source": [],
   "metadata": {
    "collapsed": false
   },
   "id": "a7ffa800b2f62433"
  },
  {
   "cell_type": "code",
   "outputs": [],
   "source": [
    "exConditions =  [\"Age > 50\", \"Tumor Size >30mm\", \"ER Positive\", \"PR Positive\", \"HER2 Positive\", \"Recurrence\"]"
   ],
   "metadata": {
    "collapsed": false,
    "ExecuteTime": {
     "end_time": "2024-09-19T02:18:12.822182Z",
     "start_time": "2024-09-19T02:18:12.805630Z"
    }
   },
   "id": "4d7d2bcf3c03b070",
   "execution_count": 9
  },
  {
   "cell_type": "code",
   "outputs": [],
   "source": [
    "#Rul number 1 "
   ],
   "metadata": {
    "collapsed": false
   },
   "id": "9da305e1803839d9"
  },
  {
   "cell_type": "code",
   "outputs": [],
   "source": [
    "def R1(data):\n",
    "    if data[\"Age > 50\"] == True and data['ER Positive'] == True:\n",
    "        return True\n",
    "    return False"
   ],
   "metadata": {
    "collapsed": false,
    "ExecuteTime": {
     "end_time": "2024-09-19T03:30:53.052623Z",
     "start_time": "2024-09-19T03:30:53.045953Z"
    }
   },
   "id": "667f78df0fdaa7bf",
   "execution_count": 22
  },
  {
   "cell_type": "code",
   "outputs": [],
   "source": [
    "#Rul  number 2"
   ],
   "metadata": {
    "collapsed": false,
    "ExecuteTime": {
     "end_time": "2024-09-19T03:16:24.579555Z",
     "start_time": "2024-09-19T03:16:24.567298Z"
    }
   },
   "id": "8c479cfade6b3b6d",
   "execution_count": 11
  },
  {
   "cell_type": "code",
   "outputs": [],
   "source": [
    "def R2(data):\n",
    "    if data[\"HER2 Positive\"] == True and data['Tumor Size > 30mm'] == True:\n",
    "        return True\n",
    "    return False\n",
    "\n",
    "        "
   ],
   "metadata": {
    "collapsed": false,
    "ExecuteTime": {
     "end_time": "2024-09-19T03:30:55.571712Z",
     "start_time": "2024-09-19T03:30:55.565970Z"
    }
   },
   "id": "a484530d7c1a2391",
   "execution_count": 23
  },
  {
   "cell_type": "code",
   "outputs": [],
   "source": [
    "#Rul number 3 "
   ],
   "metadata": {
    "collapsed": false,
    "ExecuteTime": {
     "end_time": "2024-09-19T03:16:28.469964Z",
     "start_time": "2024-09-19T03:16:28.462962Z"
    }
   },
   "id": "212fac233a268057",
   "execution_count": 13
  },
  {
   "cell_type": "code",
   "outputs": [],
   "source": [
    "def R3(data):\n",
    "    if data['ER Positive'] == True and data['PR Positive'] == False:\n",
    "        return True\n",
    "    return False\n",
    "    "
   ],
   "metadata": {
    "collapsed": false,
    "ExecuteTime": {
     "end_time": "2024-09-19T03:30:57.428993Z",
     "start_time": "2024-09-19T03:30:57.422998Z"
    }
   },
   "id": "ede86b6d31fa8439",
   "execution_count": 24
  },
  {
   "cell_type": "code",
   "outputs": [],
   "source": [
    "#Classify all the 6 patients with the three rules"
   ],
   "metadata": {
    "collapsed": false,
    "ExecuteTime": {
     "end_time": "2024-09-19T03:18:37.411178Z",
     "start_time": "2024-09-19T03:18:37.398210Z"
    }
   },
   "id": "147759a43ae03430",
   "execution_count": 15
  },
  {
   "cell_type": "code",
   "outputs": [],
   "source": [
    "def classify(patient):\n",
    "    \n",
    "    if R1(patient) or R2(patient) or R3(patient): \n",
    "        return True\n",
    "    return False\n"
   ],
   "metadata": {
    "collapsed": false,
    "ExecuteTime": {
     "end_time": "2024-09-19T03:30:25.311731Z",
     "start_time": "2024-09-19T03:30:25.306167Z"
    }
   },
   "id": "4c99090930ac3cc8",
   "execution_count": 20
  },
  {
   "cell_type": "code",
   "outputs": [],
   "source": [
    "#test the classify function"
   ],
   "metadata": {
    "collapsed": false,
    "ExecuteTime": {
     "end_time": "2024-09-19T03:25:04.664235Z",
     "start_time": "2024-09-19T03:25:04.658055Z"
    }
   },
   "id": "202acac17587e017",
   "execution_count": 16
  },
  {
   "cell_type": "code",
   "outputs": [
    {
     "name": "stdout",
     "output_type": "stream",
     "text": [
      "Patient 1: Not at risk of recurrence\n",
      "Patient 2: At risk of recurrence\n",
      "Patient 3: Not at risk of recurrence\n",
      "Patient 4: At risk of recurrence\n",
      "Patient 5: At risk of recurrence\n",
      "Patient 6: At risk of recurrence\n"
     ]
    }
   ],
   "source": [
    "for i,  feature in enumerate(patients):\n",
    "    classification = classify(feature)\n",
    "    if(classification == True):\n",
    "        print(f\"Patient {i+1}: At risk of recurrence\")\n",
    "    else:\n",
    "        print(f\"Patient {i+1}: Not at risk of recurrence\")\n",
    "        \n"
   ],
   "metadata": {
    "collapsed": false,
    "ExecuteTime": {
     "end_time": "2024-09-19T03:34:55.475748Z",
     "start_time": "2024-09-19T03:34:55.469197Z"
    }
   },
   "id": "c1ea8acd57daa34e",
   "execution_count": 26
  },
  {
   "cell_type": "code",
   "outputs": [],
   "source": [],
   "metadata": {
    "collapsed": false
   },
   "id": "ed0ee740ac492e5f"
  }
 ],
 "metadata": {
  "kernelspec": {
   "display_name": "Python 3",
   "language": "python",
   "name": "python3"
  },
  "language_info": {
   "codemirror_mode": {
    "name": "ipython",
    "version": 2
   },
   "file_extension": ".py",
   "mimetype": "text/x-python",
   "name": "python",
   "nbconvert_exporter": "python",
   "pygments_lexer": "ipython2",
   "version": "2.7.6"
  }
 },
 "nbformat": 4,
 "nbformat_minor": 5
}
